{
 "cells": [
  {
   "cell_type": "code",
   "execution_count": 11,
   "metadata": {},
   "outputs": [],
   "source": [
    "import numpy as np"
   ]
  },
  {
   "cell_type": "code",
   "execution_count": 37,
   "metadata": {},
   "outputs": [],
   "source": [
    "with open(\"input.txt\") as f:\n",
    "    text = f.read()\n",
    "text_split = text.split('\\n')[:-1]\n",
    "text_split;"
   ]
  },
  {
   "cell_type": "code",
   "execution_count": 41,
   "metadata": {},
   "outputs": [],
   "source": [
    "data = np.array([[int(i) for i in line] for line in text_split])\n",
    "data_cons = np.array([[i for i in line[1:-1]] for line in data[1:-1]])"
   ]
  },
  {
   "cell_type": "code",
   "execution_count": 39,
   "metadata": {},
   "outputs": [
    {
     "data": {
      "text/plain": [
       "array([False,  True])"
      ]
     },
     "execution_count": 39,
     "metadata": {},
     "output_type": "execute_result"
    }
   ],
   "source": [
    "data[:2,4] > 0"
   ]
  },
  {
   "attachments": {},
   "cell_type": "markdown",
   "metadata": {},
   "source": [
    "### How many visible trees"
   ]
  },
  {
   "cell_type": "code",
   "execution_count": 53,
   "metadata": {},
   "outputs": [
    {
     "name": "stdout",
     "output_type": "stream",
     "text": [
      "[1 0 2 0 2 3]\n",
      "[array([3, 0, 3, 0, 2])]\n",
      "3\n"
     ]
    },
    {
     "data": {
      "text/plain": [
       "1321"
      ]
     },
     "execution_count": 53,
     "metadata": {},
     "output_type": "execute_result"
    }
   ],
   "source": [
    "count = 0\n",
    "for i, row in enumerate(data_cons):\n",
    "    i += 1\n",
    "    for j, val in enumerate(row):\n",
    "        j += 1\n",
    "        left = data[i,:j]\n",
    "        right = data[i,j+1:]\n",
    "        top = [data[:i,j]]\n",
    "        bottom = [data[i+1:, j]]\n",
    "        if np.all(left < val) or np.all(top < val) or np.all(right < val) or np.all(bottom < val):\n",
    "            count += 1\n",
    "\n",
    "        if i == 5 and j == 6:\n",
    "            print(left)\n",
    "            print(top)\n",
    "            print(val)\n",
    "\n",
    "count"
   ]
  },
  {
   "cell_type": "code",
   "execution_count": 54,
   "metadata": {},
   "outputs": [
    {
     "data": {
      "text/plain": [
       "1713"
      ]
     },
     "execution_count": 54,
     "metadata": {},
     "output_type": "execute_result"
    }
   ],
   "source": [
    "99*2 + 97*2 + 1321"
   ]
  },
  {
   "attachments": {},
   "cell_type": "markdown",
   "metadata": {},
   "source": [
    "### Highest scenic score"
   ]
  },
  {
   "cell_type": "code",
   "execution_count": 79,
   "metadata": {},
   "outputs": [],
   "source": [
    "def count_visible_trees(arr, val):\n",
    "    score = 0\n",
    "    # print(arr)\n",
    "    for i in arr:\n",
    "        # print()\n",
    "        if i >= val:\n",
    "            score += 1\n",
    "            break\n",
    "        score += 1\n",
    "    return score"
   ]
  },
  {
   "cell_type": "code",
   "execution_count": 80,
   "metadata": {},
   "outputs": [],
   "source": [
    "scenic_scores = []\n",
    "for i, row in enumerate(data):\n",
    "    for j, val in enumerate(row):\n",
    "        left = data[i,:j]\n",
    "        right = data[i,j+1:]\n",
    "        top = data[:i,j]\n",
    "        bottom = data[i+1:, j]\n",
    "\n",
    "        score = 1\n",
    "        for direction in [np.flip(left), right, np.flip(top), bottom]:\n",
    "            score *= count_visible_trees(direction, val)\n",
    "        scenic_scores.append(score)\n"
   ]
  },
  {
   "cell_type": "code",
   "execution_count": 81,
   "metadata": {},
   "outputs": [
    {
     "data": {
      "text/plain": [
       "268464"
      ]
     },
     "execution_count": 81,
     "metadata": {},
     "output_type": "execute_result"
    }
   ],
   "source": [
    "np.max(scenic_scores)"
   ]
  },
  {
   "cell_type": "code",
   "execution_count": 78,
   "metadata": {},
   "outputs": [
    {
     "data": {
      "text/plain": [
       "4"
      ]
     },
     "execution_count": 78,
     "metadata": {},
     "output_type": "execute_result"
    }
   ],
   "source": [
    "scenic_scores[-1]"
   ]
  },
  {
   "cell_type": "code",
   "execution_count": 57,
   "metadata": {},
   "outputs": [],
   "source": [
    "a = np.array([1,2,3])"
   ]
  },
  {
   "cell_type": "code",
   "execution_count": 58,
   "metadata": {},
   "outputs": [
    {
     "data": {
      "text/plain": [
       "array([3, 2, 1])"
      ]
     },
     "execution_count": 58,
     "metadata": {},
     "output_type": "execute_result"
    }
   ],
   "source": [
    "np.flip(a)"
   ]
  }
 ],
 "metadata": {
  "kernelspec": {
   "display_name": "Python 3",
   "language": "python",
   "name": "python3"
  },
  "language_info": {
   "codemirror_mode": {
    "name": "ipython",
    "version": 3
   },
   "file_extension": ".py",
   "mimetype": "text/x-python",
   "name": "python",
   "nbconvert_exporter": "python",
   "pygments_lexer": "ipython3",
   "version": "3.9.6"
  },
  "orig_nbformat": 4,
  "vscode": {
   "interpreter": {
    "hash": "262f8b477cc64dc320753ba960b3a53fa0c7d1bf63d1372a4e0982cc6941facc"
   }
  }
 },
 "nbformat": 4,
 "nbformat_minor": 2
}

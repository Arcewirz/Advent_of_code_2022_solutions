{
 "cells": [
  {
   "cell_type": "code",
   "execution_count": 63,
   "metadata": {},
   "outputs": [],
   "source": [
    "from collections import defaultdict\n",
    "from functools import cache"
   ]
  },
  {
   "cell_type": "code",
   "execution_count": 50,
   "metadata": {},
   "outputs": [],
   "source": [
    "with open(\"input.txt\") as f:\n",
    "    text = f.read()\n",
    "text_split = text.split('\\n')[:-1]\n",
    "text_split;"
   ]
  },
  {
   "cell_type": "code",
   "execution_count": 47,
   "metadata": {},
   "outputs": [],
   "source": [
    "def parse_input(input :list[str]):\n",
    "    directories = defaultdict(list)\n",
    "    cwd = \"\"\n",
    "    for i, line in enumerate(input):\n",
    "        if line[0] == \"$\":\n",
    "            blocks = line.split(\" \")\n",
    "    \n",
    "            if blocks[1] == \"cd\":\n",
    "                if blocks[2] == \"..\":\n",
    "                    cwd = \"/\".join(cwd.split(\"/\")[:-1])\n",
    "                elif blocks[2] == \"/\":\n",
    "                    cwd = \"HOME\"\n",
    "                else:\n",
    "                    cwd += \"/\" + blocks[2]\n",
    "                continue\n",
    "\n",
    "            if blocks[1] == \"ls\":\n",
    "                j = 1\n",
    "                try:\n",
    "                    while input[i+j][0] != \"$\":\n",
    "                        content = input[i+j]\n",
    "                        directories[cwd].append(content.split(\" \"))\n",
    "                        j += 1\n",
    "                except IndexError:\n",
    "                    continue\n",
    "\n",
    "    return directories\n"
   ]
  },
  {
   "cell_type": "code",
   "execution_count": 51,
   "metadata": {},
   "outputs": [],
   "source": [
    "data = parse_input(text_split);"
   ]
  },
  {
   "cell_type": "code",
   "execution_count": 86,
   "metadata": {},
   "outputs": [],
   "source": [
    "def dir_space(data: dict, dir: str)->int:\n",
    "    space = 0\n",
    "    for entity in data[dir]:\n",
    "        if entity[0] == \"dir\":\n",
    "            space += dir_space(data, dir + \"/\" + entity[1])\n",
    "        else:\n",
    "            space += int(entity[0])\n",
    "    return space"
   ]
  },
  {
   "cell_type": "code",
   "execution_count": 89,
   "metadata": {},
   "outputs": [],
   "source": [
    "spaces = []\n",
    "for key, val in [*data.items()][1:]:\n",
    "    spaces.append(dir_space(data, key))"
   ]
  },
  {
   "cell_type": "code",
   "execution_count": 88,
   "metadata": {},
   "outputs": [
    {
     "data": {
      "text/plain": [
       "1450771"
      ]
     },
     "execution_count": 88,
     "metadata": {},
     "output_type": "execute_result"
    }
   ],
   "source": [
    "required = sum(spaces) - 40000000\n",
    "required"
   ]
  },
  {
   "cell_type": "code",
   "execution_count": 98,
   "metadata": {},
   "outputs": [],
   "source": [
    "required = 1450771 + 284723"
   ]
  },
  {
   "cell_type": "code",
   "execution_count": 99,
   "metadata": {},
   "outputs": [],
   "source": [
    "finding = [*filter(lambda x: x >= required , spaces)]"
   ]
  },
  {
   "cell_type": "code",
   "execution_count": 100,
   "metadata": {},
   "outputs": [
    {
     "data": {
      "text/plain": [
       "[1815525,\n",
       " 1848135,\n",
       " 1887691,\n",
       " 1943378,\n",
       " 2070965,\n",
       " 2140665,\n",
       " 2425469,\n",
       " 2903941,\n",
       " 2947410,\n",
       " 3339835,\n",
       " 3347633,\n",
       " 3499064,\n",
       " 3715304,\n",
       " 4116403,\n",
       " 5302956,\n",
       " 6600612,\n",
       " 7705079,\n",
       " 8407807,\n",
       " 11495286,\n",
       " 12764747,\n",
       " 14847874]"
      ]
     },
     "execution_count": 100,
     "metadata": {},
     "output_type": "execute_result"
    }
   ],
   "source": [
    "sorted(finding)"
   ]
  },
  {
   "cell_type": "code",
   "execution_count": 90,
   "metadata": {},
   "outputs": [
    {
     "data": {
      "text/plain": [
       "[3339835,\n",
       " 279445,\n",
       " 59866,\n",
       " 59866,\n",
       " 59866,\n",
       " 41266,\n",
       " 41266,\n",
       " 101757,\n",
       " 101757,\n",
       " 2947410,\n",
       " 1134787,\n",
       " 289546,\n",
       " 178765,\n",
       " 1399822,\n",
       " 712782,\n",
       " 102053,\n",
       " 102053,\n",
       " 510382,\n",
       " 139407,\n",
       " 346983,\n",
       " 120460,\n",
       " 331245,\n",
       " 180679,\n",
       " 12764747,\n",
       " 11495286,\n",
       " 4116403,\n",
       " 1474657,\n",
       " 276105,\n",
       " 723139,\n",
       " 163168,\n",
       " 414452,\n",
       " 1546977,\n",
       " 27856,\n",
       " 27856,\n",
       " 414925,\n",
       " 35566,\n",
       " 1587,\n",
       " 33979,\n",
       " 152202,\n",
       " 152202,\n",
       " 58096,\n",
       " 66628,\n",
       " 327340,\n",
       " 6600612,\n",
       " 3715304,\n",
       " 1597017,\n",
       " 1193836,\n",
       " 294466,\n",
       " 352237,\n",
       " 28780,\n",
       " 57352,\n",
       " 51243,\n",
       " 376484,\n",
       " 301342,\n",
       " 210570,\n",
       " 958241,\n",
       " 420399,\n",
       " 537842,\n",
       " 2140665,\n",
       " 1943378,\n",
       " 567894,\n",
       " 299742,\n",
       " 299742,\n",
       " 268152,\n",
       " 186758,\n",
       " 495757,\n",
       " 152443,\n",
       " 117403,\n",
       " 96676,\n",
       " 192533,\n",
       " 115286,\n",
       " 18103,\n",
       " 163549,\n",
       " 893350,\n",
       " 637954,\n",
       " 399714,\n",
       " 1887691,\n",
       " 201793,\n",
       " 1189837,\n",
       " 159538,\n",
       " 978684,\n",
       " 66408,\n",
       " 682816,\n",
       " 593148,\n",
       " 31258,\n",
       " 31258,\n",
       " 281485,\n",
       " 281485,\n",
       " 191614,\n",
       " 102230,\n",
       " 102230,\n",
       " 8407807,\n",
       " 611454,\n",
       " 304569,\n",
       " 72334,\n",
       " 232235,\n",
       " 232235,\n",
       " 29531,\n",
       " 21538,\n",
       " 1325905,\n",
       " 714204,\n",
       " 2425469,\n",
       " 219375,\n",
       " 2070965,\n",
       " 284625,\n",
       " 143304,\n",
       " 1365911,\n",
       " 795885,\n",
       " 174378,\n",
       " 174378,\n",
       " 621507,\n",
       " 3347633,\n",
       " 515296,\n",
       " 377492,\n",
       " 1815525,\n",
       " 43689,\n",
       " 608375,\n",
       " 289238,\n",
       " 289238,\n",
       " 289069,\n",
       " 138407,\n",
       " 173287,\n",
       " 89301,\n",
       " 14847874,\n",
       " 5302956,\n",
       " 503327,\n",
       " 443811,\n",
       " 812477,\n",
       " 269510,\n",
       " 530600,\n",
       " 2903941,\n",
       " 759913,\n",
       " 491236,\n",
       " 491236,\n",
       " 1121661,\n",
       " 416556,\n",
       " 171647,\n",
       " 421903,\n",
       " 124041,\n",
       " 124041,\n",
       " 124041,\n",
       " 519520,\n",
       " 428549,\n",
       " 7705079,\n",
       " 1146036,\n",
       " 508558,\n",
       " 211224,\n",
       " 211224,\n",
       " 889251,\n",
       " 62520,\n",
       " 602758,\n",
       " 223973,\n",
       " 190720,\n",
       " 190720,\n",
       " 613397,\n",
       " 688818,\n",
       " 93504,\n",
       " 93504,\n",
       " 93504,\n",
       " 93504,\n",
       " 595314,\n",
       " 3499064,\n",
       " 1848135,\n",
       " 12818,\n",
       " 1290363,\n",
       " 227691,\n",
       " 608476,\n",
       " 258155,\n",
       " 1003000,\n",
       " 172038,\n",
       " 250732,\n",
       " 555904,\n",
       " 170723,\n",
       " 332198,\n",
       " 206656,\n",
       " 722324,\n",
       " 47874,\n",
       " 181151,\n",
       " 379725,\n",
       " 214069,\n",
       " 214069,\n",
       " 202817]"
      ]
     },
     "execution_count": 90,
     "metadata": {},
     "output_type": "execute_result"
    }
   ],
   "source": [
    "spaces"
   ]
  }
 ],
 "metadata": {
  "kernelspec": {
   "display_name": "Python 3.9.6 64-bit",
   "language": "python",
   "name": "python3"
  },
  "language_info": {
   "codemirror_mode": {
    "name": "ipython",
    "version": 3
   },
   "file_extension": ".py",
   "mimetype": "text/x-python",
   "name": "python",
   "nbconvert_exporter": "python",
   "pygments_lexer": "ipython3",
   "version": "3.9.6 (tags/v3.9.6:db3ff76, Jun 28 2021, 15:26:21) [MSC v.1929 64 bit (AMD64)]"
  },
  "orig_nbformat": 4,
  "vscode": {
   "interpreter": {
    "hash": "262f8b477cc64dc320753ba960b3a53fa0c7d1bf63d1372a4e0982cc6941facc"
   }
  }
 },
 "nbformat": 4,
 "nbformat_minor": 2
}
